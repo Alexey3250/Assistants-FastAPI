{
 "cells": [
  {
   "cell_type": "markdown",
   "metadata": {},
   "source": [
    "# API work\n",
    "\n",
    "FastAPI\n",
    "\n",
    "## Chaetbot API part\n",
    "- imput we will receive the **user_id**, **thread_id** and the initial **message**\n",
    "    - output we will send the message to the user and the **thread_id**\n",
    "Here we will use cahtconsierge assistant asst_CjvyFIeraCLKB8NTAqF0FhqG\n",
    "\n",
    "## Sumariser part\n",
    "- input we will receive the **message** and the **thread_id**\n",
    "    - output we will send the **summary** and the **thread_id**\n",
    "\n",
    "here we will use the summariser assistant asst_kCSrKaHjh589gbKr2fphQ93T"
   ]
  },
  {
   "cell_type": "markdown",
   "metadata": {},
   "source": [
    "### Summariser"
   ]
  },
  {
   "cell_type": "code",
   "execution_count": 1,
   "metadata": {},
   "outputs": [
    {
     "ename": "FileNotFoundError",
     "evalue": "[Errno 2] No such file or directory: 'message_thread.txt'",
     "output_type": "error",
     "traceback": [
      "\u001b[1;31m---------------------------------------------------------------------------\u001b[0m",
      "\u001b[1;31mFileNotFoundError\u001b[0m                         Traceback (most recent call last)",
      "\u001b[1;32mc:\\Users\\Alex\\Assistants-FastAPI\\testground.ipynb Cell 3\u001b[0m line \u001b[0;36m1\n\u001b[0;32m      <a href='vscode-notebook-cell:/c%3A/Users/Alex/Assistants-FastAPI/testground.ipynb#W0sZmlsZQ%3D%3D?line=8'>9</a>\u001b[0m assistant \u001b[39m=\u001b[39m client\u001b[39m.\u001b[39mbeta\u001b[39m.\u001b[39massistants\u001b[39m.\u001b[39mretrieve(\u001b[39m\"\u001b[39m\u001b[39masst_kCSrKaHjh589gbKr2fphQ93T\u001b[39m\u001b[39m\"\u001b[39m)\n\u001b[0;32m     <a href='vscode-notebook-cell:/c%3A/Users/Alex/Assistants-FastAPI/testground.ipynb#W0sZmlsZQ%3D%3D?line=11'>12</a>\u001b[0m \u001b[39m# Open the file and read its contents\u001b[39;00m\n\u001b[1;32m---> <a href='vscode-notebook-cell:/c%3A/Users/Alex/Assistants-FastAPI/testground.ipynb#W0sZmlsZQ%3D%3D?line=12'>13</a>\u001b[0m \u001b[39mwith\u001b[39;00m \u001b[39mopen\u001b[39;49m(\u001b[39m\"\u001b[39;49m\u001b[39mmessage_thread.txt\u001b[39;49m\u001b[39m\"\u001b[39;49m, \u001b[39m'\u001b[39;49m\u001b[39mr\u001b[39;49m\u001b[39m'\u001b[39;49m, encoding\u001b[39m=\u001b[39;49m\u001b[39m'\u001b[39;49m\u001b[39mutf-8\u001b[39;49m\u001b[39m'\u001b[39;49m) \u001b[39mas\u001b[39;00m file:\n\u001b[0;32m     <a href='vscode-notebook-cell:/c%3A/Users/Alex/Assistants-FastAPI/testground.ipynb#W0sZmlsZQ%3D%3D?line=13'>14</a>\u001b[0m     message_to_send \u001b[39m=\u001b[39m file\u001b[39m.\u001b[39mread()\n\u001b[0;32m     <a href='vscode-notebook-cell:/c%3A/Users/Alex/Assistants-FastAPI/testground.ipynb#W0sZmlsZQ%3D%3D?line=15'>16</a>\u001b[0m thread \u001b[39m=\u001b[39m client\u001b[39m.\u001b[39mbeta\u001b[39m.\u001b[39mthreads\u001b[39m.\u001b[39mcreate()\n",
      "File \u001b[1;32m~\\AppData\\Roaming\\Python\\Python310\\site-packages\\IPython\\core\\interactiveshell.py:284\u001b[0m, in \u001b[0;36m_modified_open\u001b[1;34m(file, *args, **kwargs)\u001b[0m\n\u001b[0;32m    277\u001b[0m \u001b[39mif\u001b[39;00m file \u001b[39min\u001b[39;00m {\u001b[39m0\u001b[39m, \u001b[39m1\u001b[39m, \u001b[39m2\u001b[39m}:\n\u001b[0;32m    278\u001b[0m     \u001b[39mraise\u001b[39;00m \u001b[39mValueError\u001b[39;00m(\n\u001b[0;32m    279\u001b[0m         \u001b[39mf\u001b[39m\u001b[39m\"\u001b[39m\u001b[39mIPython won\u001b[39m\u001b[39m'\u001b[39m\u001b[39mt let you open fd=\u001b[39m\u001b[39m{\u001b[39;00mfile\u001b[39m}\u001b[39;00m\u001b[39m by default \u001b[39m\u001b[39m\"\u001b[39m\n\u001b[0;32m    280\u001b[0m         \u001b[39m\"\u001b[39m\u001b[39mas it is likely to crash IPython. If you know what you are doing, \u001b[39m\u001b[39m\"\u001b[39m\n\u001b[0;32m    281\u001b[0m         \u001b[39m\"\u001b[39m\u001b[39myou can use builtins\u001b[39m\u001b[39m'\u001b[39m\u001b[39m open.\u001b[39m\u001b[39m\"\u001b[39m\n\u001b[0;32m    282\u001b[0m     )\n\u001b[1;32m--> 284\u001b[0m \u001b[39mreturn\u001b[39;00m io_open(file, \u001b[39m*\u001b[39margs, \u001b[39m*\u001b[39m\u001b[39m*\u001b[39mkwargs)\n",
      "\u001b[1;31mFileNotFoundError\u001b[0m: [Errno 2] No such file or directory: 'message_thread.txt'"
     ]
    }
   ],
   "source": [
    "# Connect to openai \n",
    "\n",
    "import openai\n",
    "import os\n",
    "import time\n",
    "\n",
    "openai.api_key = os.getenv(\"OPENAI_API_KEY\")\n",
    "client = openai.Client()\n",
    "assistant = client.beta.assistants.retrieve(\"asst_kCSrKaHjh589gbKr2fphQ93T\")\n",
    "\n",
    "\n",
    "# Open the file and read its contents\n",
    "with open(\"message_thread.txt\", 'r', encoding='utf-8') as file:\n",
    "    message_to_send = file.read()\n",
    "    \n",
    "thread = client.beta.threads.create()\n",
    "\n",
    "message = client.beta.threads.messages.create(\n",
    "    thread_id=thread.id,\n",
    "    role=\"user\",\n",
    "    content=message_to_send\n",
    ")\n",
    "\n",
    "run = client.beta.threads.runs.create(\n",
    "    thread_id=thread.id,\n",
    "    assistant_id=assistant.id\n",
    ")\n",
    "\n",
    "def check_run_status(client, thread_id, run_id):\n",
    "    try:\n",
    "        run = client.beta.threads.runs.retrieve(thread_id=thread_id, run_id=run_id)\n",
    "        return run.status  # Access the status attribute directly\n",
    "    except Exception as e:\n",
    "        print(f\"Error retrieving run: {e}\")\n",
    "        return None\n",
    "\n",
    "def wait_for_run_completion(client, thread_id, run_id, interval=0.5):\n",
    "    while True:\n",
    "        status = check_run_status(client, thread_id, run_id)\n",
    "        if status == 'completed':\n",
    "            print(\"Run is completed.\")\n",
    "            break\n",
    "        elif status in ['failed', 'cancelled']:\n",
    "            print(f\"Run {status}.\")\n",
    "            break\n",
    "        else:\n",
    "            print(f\"Run is still in progress... Current status: {status}\")\n",
    "            time.sleep(interval)\n",
    "\n",
    "\n",
    "# Get the thread ID and run ID\n",
    "thread_id = thread.id\n",
    "run_id = run.id\n",
    "\n",
    "print(f\"Thread ID: {thread_id}\")\n",
    "print(f\"Run ID: {run_id}\")\n",
    "# print the separator\n",
    "print(\"-\" * 20)\n",
    "\n",
    "# Wait for the run to complete\n",
    "wait_for_run_completion(client, thread_id, run_id)\n",
    "\n",
    "# print the separator\n",
    "print(\"-\" * 20)\n",
    "\n",
    "messages = client.beta.threads.messages.list(\n",
    "    thread_id=thread.id\n",
    ")\n",
    "\n",
    "# Variable to store the last assistant's response\n",
    "last_assistant_response = \"\"\n",
    "\n",
    "for message in messages.data:\n",
    "    # Check if the message is from the assistant and has content\n",
    "    if message.role == \"assistant\" and message.content:\n",
    "        # Assuming the first item in content is a text object\n",
    "        text_content = message.content[0].text\n",
    "        if text_content:\n",
    "            # Print and store the message text value\n",
    "            last_assistant_response = text_content.value\n",
    "            print(f\"Assistant: {last_assistant_response}\")  # Print the value"
   ]
  },
  {
   "cell_type": "markdown",
   "metadata": {},
   "source": [
    "### Chatbot"
   ]
  },
  {
   "cell_type": "code",
   "execution_count": 31,
   "metadata": {},
   "outputs": [],
   "source": [
    "# Connect to openai \n",
    "\n",
    "import openai\n",
    "import os\n",
    "import time\n",
    "\n",
    "openai.api_key = os.getenv(\"OPENAI_API_KEY\")\n",
    "client = openai.Client()\n",
    "assistant = client.beta.assistants.retrieve(\"asst_CjvyFIeraCLKB8NTAqF0FhqG\")\n",
    "\n",
    "def send_message_get_reply(message, assistant_id, thread_id=None):\n",
    "    openai.api_key = os.getenv(\"OPENAI_API_KEY\")\n",
    "    client = openai.Client()\n",
    "\n",
    "    # Создание нового треда, если thread_id не предоставлен\n",
    "    if thread_id is None:\n",
    "        thread = client.beta.threads.create()\n",
    "        thread_id = thread.id\n",
    "\n",
    "    # Отправка сообщения\n",
    "    client.beta.threads.messages.create(\n",
    "        thread_id=thread_id,\n",
    "        role=\"user\",\n",
    "        content=message\n",
    "    )\n",
    "\n",
    "    # Запуск обработки сообщения\n",
    "    run = client.beta.threads.runs.create(\n",
    "        thread_id=thread_id,\n",
    "        assistant_id=assistant_id\n",
    "    )\n",
    "\n",
    "    # Проверка статуса выполнения\n",
    "    def check_run_status(run_id):\n",
    "        try:\n",
    "            run = client.beta.threads.runs.retrieve(thread_id=thread_id, run_id=run_id)\n",
    "            return run.status\n",
    "        except Exception as e:\n",
    "            print(f\"Error retrieving run: {e}\")\n",
    "            return None\n",
    "\n",
    "    # Ожидание ответа\n",
    "    while True:\n",
    "        status = check_run_status(run.id)\n",
    "        if status == 'completed':\n",
    "            break\n",
    "        elif status in ['failed', 'cancelled']:\n",
    "            return None, thread_id\n",
    "        time.sleep(0.5)\n",
    "\n",
    "    # Получение ответа\n",
    "    messages = client.beta.threads.messages.list(thread_id=thread_id)\n",
    "    messages = messages.data\n",
    "    print(messages)\n",
    "\n",
    "    \n",
    "    \n",
    "    return messages, thread_id"
   ]
  },
  {
   "cell_type": "code",
   "execution_count": 24,
   "metadata": {},
   "outputs": [
    {
     "ename": "NameError",
     "evalue": "name 'messages' is not defined",
     "output_type": "error",
     "traceback": [
      "\u001b[1;31m---------------------------------------------------------------------------\u001b[0m",
      "\u001b[1;31mNameError\u001b[0m                                 Traceback (most recent call last)",
      "\u001b[1;32mc:\\Users\\Alex\\Assistants-FastAPI\\testground.ipynb Cell 6\u001b[0m line \u001b[0;36m1\n\u001b[1;32m----> <a href='vscode-notebook-cell:/c%3A/Users/Alex/Assistants-FastAPI/testground.ipynb#X15sZmlsZQ%3D%3D?line=0'>1</a>\u001b[0m messages\n",
      "\u001b[1;31mNameError\u001b[0m: name 'messages' is not defined"
     ]
    }
   ],
   "source": [
    "messages"
   ]
  },
  {
   "cell_type": "code",
   "execution_count": 32,
   "metadata": {},
   "outputs": [
    {
     "name": "stdout",
     "output_type": "stream",
     "text": [
      "[ThreadMessage(id='msg_Z7mTOjdhBmYfPHvkm9ewGTzZ', assistant_id='asst_CjvyFIeraCLKB8NTAqF0FhqG', content=[MessageContentText(text=Text(annotations=[], value='Отлично! Вам нужен готовый тур в Дубай или отдельные услуги, такие как бронирование отеля и авиабилетов?'), type='text')], created_at=1701644332, file_ids=[], metadata={}, object='thread.message', role='assistant', run_id='run_McGM8bAnPlljrUDzRRNeHBtV', thread_id='thread_mV1kMJGP9eCESq00QVlgcqDM'), ThreadMessage(id='msg_MafLIKnNv1bGVgq709Epsr5d', assistant_id=None, content=[MessageContentText(text=Text(annotations=[], value='Я хочу поехать в дубай'), type='text')], created_at=1701644331, file_ids=[], metadata={}, object='thread.message', role='user', run_id=None, thread_id='thread_mV1kMJGP9eCESq00QVlgcqDM')]\n",
      "Ответ помощника: [ThreadMessage(id='msg_Z7mTOjdhBmYfPHvkm9ewGTzZ', assistant_id='asst_CjvyFIeraCLKB8NTAqF0FhqG', content=[MessageContentText(text=Text(annotations=[], value='Отлично! Вам нужен готовый тур в Дубай или отдельные услуги, такие как бронирование отеля и авиабилетов?'), type='text')], created_at=1701644332, file_ids=[], metadata={}, object='thread.message', role='assistant', run_id='run_McGM8bAnPlljrUDzRRNeHBtV', thread_id='thread_mV1kMJGP9eCESq00QVlgcqDM'), ThreadMessage(id='msg_MafLIKnNv1bGVgq709Epsr5d', assistant_id=None, content=[MessageContentText(text=Text(annotations=[], value='Я хочу поехать в дубай'), type='text')], created_at=1701644331, file_ids=[], metadata={}, object='thread.message', role='user', run_id=None, thread_id='thread_mV1kMJGP9eCESq00QVlgcqDM')], ID треда: thread_mV1kMJGP9eCESq00QVlgcqDM\n"
     ]
    }
   ],
   "source": [
    "# Пример использования\n",
    "assistant_id = \"asst_CjvyFIeraCLKB8NTAqF0FhqG\"  # Ваш ID помощника\n",
    "message = \"Я хочу поехать в дубай\"\n",
    "response, thread_id = send_message_get_reply(message, assistant_id)\n",
    "print(f\"Ответ помощника: {response}, ID треда: {thread_id}\")"
   ]
  },
  {
   "cell_type": "code",
   "execution_count": 33,
   "metadata": {},
   "outputs": [
    {
     "data": {
      "text/plain": [
       "[ThreadMessage(id='msg_Z7mTOjdhBmYfPHvkm9ewGTzZ', assistant_id='asst_CjvyFIeraCLKB8NTAqF0FhqG', content=[MessageContentText(text=Text(annotations=[], value='Отлично! Вам нужен готовый тур в Дубай или отдельные услуги, такие как бронирование отеля и авиабилетов?'), type='text')], created_at=1701644332, file_ids=[], metadata={}, object='thread.message', role='assistant', run_id='run_McGM8bAnPlljrUDzRRNeHBtV', thread_id='thread_mV1kMJGP9eCESq00QVlgcqDM'),\n",
       " ThreadMessage(id='msg_MafLIKnNv1bGVgq709Epsr5d', assistant_id=None, content=[MessageContentText(text=Text(annotations=[], value='Я хочу поехать в дубай'), type='text')], created_at=1701644331, file_ids=[], metadata={}, object='thread.message', role='user', run_id=None, thread_id='thread_mV1kMJGP9eCESq00QVlgcqDM')]"
      ]
     },
     "execution_count": 33,
     "metadata": {},
     "output_type": "execute_result"
    }
   ],
   "source": [
    "response"
   ]
  },
  {
   "cell_type": "code",
   "execution_count": 30,
   "metadata": {},
   "outputs": [
    {
     "name": "stdout",
     "output_type": "stream",
     "text": [
      "Сообщение, отправленное помощнику: Я хочу поехать в дубай\n",
      "[ThreadMessage(id='msg_7PRpbbSU1yzfN224xHmUeKdF', assistant_id='asst_CjvyFIeraCLKB8NTAqF0FhqG', content=[MessageContentText(text=Text(annotations=[], value='Отлично, Дубай — прекрасное место для посещения. Вы хотите забронировать тур в Дубай или вам нужна помощь только с определенными услугами, такими как авиабилеты, отель, трансферы?'), type='text')], created_at=1701644111, file_ids=[], metadata={}, object='thread.message', role='assistant', run_id='run_61AId0lG05fYcus5qOIvMrx1', thread_id='thread_1T364DlSCbqIYExYXEAMcTCK'), ThreadMessage(id='msg_5hDH6fcqrd1w00kubnri6vGW', assistant_id=None, content=[MessageContentText(text=Text(annotations=[], value='Я хочу поехать в дубай'), type='text')], created_at=1701644110, file_ids=[], metadata={}, object='thread.message', role='user', run_id=None, thread_id='thread_1T364DlSCbqIYExYXEAMcTCK')]\n",
      "Ответ помощника: [ThreadMessage(id='msg_7PRpbbSU1yzfN224xHmUeKdF', assistant_id='asst_CjvyFIeraCLKB8NTAqF0FhqG', content=[MessageContentText(text=Text(annotations=[], value='Отлично, Дубай — прекрасное место для посещения. Вы хотите забронировать тур в Дубай или вам нужна помощь только с определенными услугами, такими как авиабилеты, отель, трансферы?'), type='text')], created_at=1701644111, file_ids=[], metadata={}, object='thread.message', role='assistant', run_id='run_61AId0lG05fYcus5qOIvMrx1', thread_id='thread_1T364DlSCbqIYExYXEAMcTCK'), ThreadMessage(id='msg_5hDH6fcqrd1w00kubnri6vGW', assistant_id=None, content=[MessageContentText(text=Text(annotations=[], value='Я хочу поехать в дубай'), type='text')], created_at=1701644110, file_ids=[], metadata={}, object='thread.message', role='user', run_id=None, thread_id='thread_1T364DlSCbqIYExYXEAMcTCK')], ID треда: thread_1T364DlSCbqIYExYXEAMcTCK\n",
      "Сообщение, отправленное помощнику: Хочу забронировать тур\n",
      "[ThreadMessage(id='msg_QVfB2H2xZallqNcJkrGv6gQt', assistant_id='asst_CjvyFIeraCLKB8NTAqF0FhqG', content=[MessageContentText(text=Text(annotations=[], value='Понял вас. Скажите, пожалуйста, на скольких взрослых и детей вы хотите забронировать тур?'), type='text')], created_at=1701644116, file_ids=[], metadata={}, object='thread.message', role='assistant', run_id='run_Iw96piHSXSIjqIeUeN4qZqdM', thread_id='thread_1T364DlSCbqIYExYXEAMcTCK'), ThreadMessage(id='msg_y7LLX2o2airS1p76semqTvex', assistant_id=None, content=[MessageContentText(text=Text(annotations=[], value='Хочу забронировать тур'), type='text')], created_at=1701644114, file_ids=[], metadata={}, object='thread.message', role='user', run_id=None, thread_id='thread_1T364DlSCbqIYExYXEAMcTCK'), ThreadMessage(id='msg_7PRpbbSU1yzfN224xHmUeKdF', assistant_id='asst_CjvyFIeraCLKB8NTAqF0FhqG', content=[MessageContentText(text=Text(annotations=[], value='Отлично, Дубай — прекрасное место для посещения. Вы хотите забронировать тур в Дубай или вам нужна помощь только с определенными услугами, такими как авиабилеты, отель, трансферы?'), type='text')], created_at=1701644111, file_ids=[], metadata={}, object='thread.message', role='assistant', run_id='run_61AId0lG05fYcus5qOIvMrx1', thread_id='thread_1T364DlSCbqIYExYXEAMcTCK'), ThreadMessage(id='msg_5hDH6fcqrd1w00kubnri6vGW', assistant_id=None, content=[MessageContentText(text=Text(annotations=[], value='Я хочу поехать в дубай'), type='text')], created_at=1701644110, file_ids=[], metadata={}, object='thread.message', role='user', run_id=None, thread_id='thread_1T364DlSCbqIYExYXEAMcTCK')]\n",
      "Ответ помощника: [ThreadMessage(id='msg_QVfB2H2xZallqNcJkrGv6gQt', assistant_id='asst_CjvyFIeraCLKB8NTAqF0FhqG', content=[MessageContentText(text=Text(annotations=[], value='Понял вас. Скажите, пожалуйста, на скольких взрослых и детей вы хотите забронировать тур?'), type='text')], created_at=1701644116, file_ids=[], metadata={}, object='thread.message', role='assistant', run_id='run_Iw96piHSXSIjqIeUeN4qZqdM', thread_id='thread_1T364DlSCbqIYExYXEAMcTCK'), ThreadMessage(id='msg_y7LLX2o2airS1p76semqTvex', assistant_id=None, content=[MessageContentText(text=Text(annotations=[], value='Хочу забронировать тур'), type='text')], created_at=1701644114, file_ids=[], metadata={}, object='thread.message', role='user', run_id=None, thread_id='thread_1T364DlSCbqIYExYXEAMcTCK'), ThreadMessage(id='msg_7PRpbbSU1yzfN224xHmUeKdF', assistant_id='asst_CjvyFIeraCLKB8NTAqF0FhqG', content=[MessageContentText(text=Text(annotations=[], value='Отлично, Дубай — прекрасное место для посещения. Вы хотите забронировать тур в Дубай или вам нужна помощь только с определенными услугами, такими как авиабилеты, отель, трансферы?'), type='text')], created_at=1701644111, file_ids=[], metadata={}, object='thread.message', role='assistant', run_id='run_61AId0lG05fYcus5qOIvMrx1', thread_id='thread_1T364DlSCbqIYExYXEAMcTCK'), ThreadMessage(id='msg_5hDH6fcqrd1w00kubnri6vGW', assistant_id=None, content=[MessageContentText(text=Text(annotations=[], value='Я хочу поехать в дубай'), type='text')], created_at=1701644110, file_ids=[], metadata={}, object='thread.message', role='user', run_id=None, thread_id='thread_1T364DlSCbqIYExYXEAMcTCK')], ID треда: thread_1T364DlSCbqIYExYXEAMcTCK\n",
      "Сообщение, отправленное помощнику: Мне нужен тур на один день\n",
      "[ThreadMessage(id='msg_acfYS0DZmmTl6QnlmTbPUsC9', assistant_id='asst_CjvyFIeraCLKB8NTAqF0FhqG', content=[MessageContentText(text=Text(annotations=[], value='Туры обычно организуются на несколько дней. Уточните, пожалуйста, вы ищете экскурсионный тур в Дубае на один день или вам нужно полноценное путешествие с проживанием в отеле, но на короткий срок?'), type='text')], created_at=1701644120, file_ids=[], metadata={}, object='thread.message', role='assistant', run_id='run_5KHu03WOT6mYZMWEeCJiQmiP', thread_id='thread_1T364DlSCbqIYExYXEAMcTCK'), ThreadMessage(id='msg_9pFUZNEi2TkXcNBrv5HpX3u6', assistant_id=None, content=[MessageContentText(text=Text(annotations=[], value='Мне нужен тур на один день'), type='text')], created_at=1701644119, file_ids=[], metadata={}, object='thread.message', role='user', run_id=None, thread_id='thread_1T364DlSCbqIYExYXEAMcTCK'), ThreadMessage(id='msg_QVfB2H2xZallqNcJkrGv6gQt', assistant_id='asst_CjvyFIeraCLKB8NTAqF0FhqG', content=[MessageContentText(text=Text(annotations=[], value='Понял вас. Скажите, пожалуйста, на скольких взрослых и детей вы хотите забронировать тур?'), type='text')], created_at=1701644116, file_ids=[], metadata={}, object='thread.message', role='assistant', run_id='run_Iw96piHSXSIjqIeUeN4qZqdM', thread_id='thread_1T364DlSCbqIYExYXEAMcTCK'), ThreadMessage(id='msg_y7LLX2o2airS1p76semqTvex', assistant_id=None, content=[MessageContentText(text=Text(annotations=[], value='Хочу забронировать тур'), type='text')], created_at=1701644114, file_ids=[], metadata={}, object='thread.message', role='user', run_id=None, thread_id='thread_1T364DlSCbqIYExYXEAMcTCK'), ThreadMessage(id='msg_7PRpbbSU1yzfN224xHmUeKdF', assistant_id='asst_CjvyFIeraCLKB8NTAqF0FhqG', content=[MessageContentText(text=Text(annotations=[], value='Отлично, Дубай — прекрасное место для посещения. Вы хотите забронировать тур в Дубай или вам нужна помощь только с определенными услугами, такими как авиабилеты, отель, трансферы?'), type='text')], created_at=1701644111, file_ids=[], metadata={}, object='thread.message', role='assistant', run_id='run_61AId0lG05fYcus5qOIvMrx1', thread_id='thread_1T364DlSCbqIYExYXEAMcTCK'), ThreadMessage(id='msg_5hDH6fcqrd1w00kubnri6vGW', assistant_id=None, content=[MessageContentText(text=Text(annotations=[], value='Я хочу поехать в дубай'), type='text')], created_at=1701644110, file_ids=[], metadata={}, object='thread.message', role='user', run_id=None, thread_id='thread_1T364DlSCbqIYExYXEAMcTCK')]\n",
      "Ответ помощника: [ThreadMessage(id='msg_acfYS0DZmmTl6QnlmTbPUsC9', assistant_id='asst_CjvyFIeraCLKB8NTAqF0FhqG', content=[MessageContentText(text=Text(annotations=[], value='Туры обычно организуются на несколько дней. Уточните, пожалуйста, вы ищете экскурсионный тур в Дубае на один день или вам нужно полноценное путешествие с проживанием в отеле, но на короткий срок?'), type='text')], created_at=1701644120, file_ids=[], metadata={}, object='thread.message', role='assistant', run_id='run_5KHu03WOT6mYZMWEeCJiQmiP', thread_id='thread_1T364DlSCbqIYExYXEAMcTCK'), ThreadMessage(id='msg_9pFUZNEi2TkXcNBrv5HpX3u6', assistant_id=None, content=[MessageContentText(text=Text(annotations=[], value='Мне нужен тур на один день'), type='text')], created_at=1701644119, file_ids=[], metadata={}, object='thread.message', role='user', run_id=None, thread_id='thread_1T364DlSCbqIYExYXEAMcTCK'), ThreadMessage(id='msg_QVfB2H2xZallqNcJkrGv6gQt', assistant_id='asst_CjvyFIeraCLKB8NTAqF0FhqG', content=[MessageContentText(text=Text(annotations=[], value='Понял вас. Скажите, пожалуйста, на скольких взрослых и детей вы хотите забронировать тур?'), type='text')], created_at=1701644116, file_ids=[], metadata={}, object='thread.message', role='assistant', run_id='run_Iw96piHSXSIjqIeUeN4qZqdM', thread_id='thread_1T364DlSCbqIYExYXEAMcTCK'), ThreadMessage(id='msg_y7LLX2o2airS1p76semqTvex', assistant_id=None, content=[MessageContentText(text=Text(annotations=[], value='Хочу забронировать тур'), type='text')], created_at=1701644114, file_ids=[], metadata={}, object='thread.message', role='user', run_id=None, thread_id='thread_1T364DlSCbqIYExYXEAMcTCK'), ThreadMessage(id='msg_7PRpbbSU1yzfN224xHmUeKdF', assistant_id='asst_CjvyFIeraCLKB8NTAqF0FhqG', content=[MessageContentText(text=Text(annotations=[], value='Отлично, Дубай — прекрасное место для посещения. Вы хотите забронировать тур в Дубай или вам нужна помощь только с определенными услугами, такими как авиабилеты, отель, трансферы?'), type='text')], created_at=1701644111, file_ids=[], metadata={}, object='thread.message', role='assistant', run_id='run_61AId0lG05fYcus5qOIvMrx1', thread_id='thread_1T364DlSCbqIYExYXEAMcTCK'), ThreadMessage(id='msg_5hDH6fcqrd1w00kubnri6vGW', assistant_id=None, content=[MessageContentText(text=Text(annotations=[], value='Я хочу поехать в дубай'), type='text')], created_at=1701644110, file_ids=[], metadata={}, object='thread.message', role='user', run_id=None, thread_id='thread_1T364DlSCbqIYExYXEAMcTCK')], ID треда: thread_1T364DlSCbqIYExYXEAMcTCK\n",
      "Сообщение, отправленное помощнику: Какие варианты трансфера существуют?\n",
      "[ThreadMessage(id='msg_WLBaIEbb7SXsKHx5pvezUuPo', assistant_id='asst_CjvyFIeraCLKB8NTAqF0FhqG', content=[MessageContentText(text=Text(annotations=[], value='В Дубае вы можете выбрать различные варианты трансфера:\\n\\n1. Индивидуальный трансфер (автомобиль с водителем).\\n2. Групповой трансфер (минивэн или автобус для нескольких пассажиров).\\n3. Аренда автомобиля (если вы предпочитаете самостоятельное вождение).\\n\\nЕсть ли конкретные предпочтения или требования к трансферу, о которых вы хотели бы сообщить?'), type='text')], created_at=1701644126, file_ids=[], metadata={}, object='thread.message', role='assistant', run_id='run_wFgt5np0x2YgVncNs8dddCBQ', thread_id='thread_1T364DlSCbqIYExYXEAMcTCK'), ThreadMessage(id='msg_bQZ3rZf8il6mtQ2IQZiKfHp5', assistant_id=None, content=[MessageContentText(text=Text(annotations=[], value='Какие варианты трансфера существуют?'), type='text')], created_at=1701644125, file_ids=[], metadata={}, object='thread.message', role='user', run_id=None, thread_id='thread_1T364DlSCbqIYExYXEAMcTCK'), ThreadMessage(id='msg_acfYS0DZmmTl6QnlmTbPUsC9', assistant_id='asst_CjvyFIeraCLKB8NTAqF0FhqG', content=[MessageContentText(text=Text(annotations=[], value='Туры обычно организуются на несколько дней. Уточните, пожалуйста, вы ищете экскурсионный тур в Дубае на один день или вам нужно полноценное путешествие с проживанием в отеле, но на короткий срок?'), type='text')], created_at=1701644120, file_ids=[], metadata={}, object='thread.message', role='assistant', run_id='run_5KHu03WOT6mYZMWEeCJiQmiP', thread_id='thread_1T364DlSCbqIYExYXEAMcTCK'), ThreadMessage(id='msg_9pFUZNEi2TkXcNBrv5HpX3u6', assistant_id=None, content=[MessageContentText(text=Text(annotations=[], value='Мне нужен тур на один день'), type='text')], created_at=1701644119, file_ids=[], metadata={}, object='thread.message', role='user', run_id=None, thread_id='thread_1T364DlSCbqIYExYXEAMcTCK'), ThreadMessage(id='msg_QVfB2H2xZallqNcJkrGv6gQt', assistant_id='asst_CjvyFIeraCLKB8NTAqF0FhqG', content=[MessageContentText(text=Text(annotations=[], value='Понял вас. Скажите, пожалуйста, на скольких взрослых и детей вы хотите забронировать тур?'), type='text')], created_at=1701644116, file_ids=[], metadata={}, object='thread.message', role='assistant', run_id='run_Iw96piHSXSIjqIeUeN4qZqdM', thread_id='thread_1T364DlSCbqIYExYXEAMcTCK'), ThreadMessage(id='msg_y7LLX2o2airS1p76semqTvex', assistant_id=None, content=[MessageContentText(text=Text(annotations=[], value='Хочу забронировать тур'), type='text')], created_at=1701644114, file_ids=[], metadata={}, object='thread.message', role='user', run_id=None, thread_id='thread_1T364DlSCbqIYExYXEAMcTCK'), ThreadMessage(id='msg_7PRpbbSU1yzfN224xHmUeKdF', assistant_id='asst_CjvyFIeraCLKB8NTAqF0FhqG', content=[MessageContentText(text=Text(annotations=[], value='Отлично, Дубай — прекрасное место для посещения. Вы хотите забронировать тур в Дубай или вам нужна помощь только с определенными услугами, такими как авиабилеты, отель, трансферы?'), type='text')], created_at=1701644111, file_ids=[], metadata={}, object='thread.message', role='assistant', run_id='run_61AId0lG05fYcus5qOIvMrx1', thread_id='thread_1T364DlSCbqIYExYXEAMcTCK'), ThreadMessage(id='msg_5hDH6fcqrd1w00kubnri6vGW', assistant_id=None, content=[MessageContentText(text=Text(annotations=[], value='Я хочу поехать в дубай'), type='text')], created_at=1701644110, file_ids=[], metadata={}, object='thread.message', role='user', run_id=None, thread_id='thread_1T364DlSCbqIYExYXEAMcTCK')]\n",
      "Ответ помощника: [ThreadMessage(id='msg_WLBaIEbb7SXsKHx5pvezUuPo', assistant_id='asst_CjvyFIeraCLKB8NTAqF0FhqG', content=[MessageContentText(text=Text(annotations=[], value='В Дубае вы можете выбрать различные варианты трансфера:\\n\\n1. Индивидуальный трансфер (автомобиль с водителем).\\n2. Групповой трансфер (минивэн или автобус для нескольких пассажиров).\\n3. Аренда автомобиля (если вы предпочитаете самостоятельное вождение).\\n\\nЕсть ли конкретные предпочтения или требования к трансферу, о которых вы хотели бы сообщить?'), type='text')], created_at=1701644126, file_ids=[], metadata={}, object='thread.message', role='assistant', run_id='run_wFgt5np0x2YgVncNs8dddCBQ', thread_id='thread_1T364DlSCbqIYExYXEAMcTCK'), ThreadMessage(id='msg_bQZ3rZf8il6mtQ2IQZiKfHp5', assistant_id=None, content=[MessageContentText(text=Text(annotations=[], value='Какие варианты трансфера существуют?'), type='text')], created_at=1701644125, file_ids=[], metadata={}, object='thread.message', role='user', run_id=None, thread_id='thread_1T364DlSCbqIYExYXEAMcTCK'), ThreadMessage(id='msg_acfYS0DZmmTl6QnlmTbPUsC9', assistant_id='asst_CjvyFIeraCLKB8NTAqF0FhqG', content=[MessageContentText(text=Text(annotations=[], value='Туры обычно организуются на несколько дней. Уточните, пожалуйста, вы ищете экскурсионный тур в Дубае на один день или вам нужно полноценное путешествие с проживанием в отеле, но на короткий срок?'), type='text')], created_at=1701644120, file_ids=[], metadata={}, object='thread.message', role='assistant', run_id='run_5KHu03WOT6mYZMWEeCJiQmiP', thread_id='thread_1T364DlSCbqIYExYXEAMcTCK'), ThreadMessage(id='msg_9pFUZNEi2TkXcNBrv5HpX3u6', assistant_id=None, content=[MessageContentText(text=Text(annotations=[], value='Мне нужен тур на один день'), type='text')], created_at=1701644119, file_ids=[], metadata={}, object='thread.message', role='user', run_id=None, thread_id='thread_1T364DlSCbqIYExYXEAMcTCK'), ThreadMessage(id='msg_QVfB2H2xZallqNcJkrGv6gQt', assistant_id='asst_CjvyFIeraCLKB8NTAqF0FhqG', content=[MessageContentText(text=Text(annotations=[], value='Понял вас. Скажите, пожалуйста, на скольких взрослых и детей вы хотите забронировать тур?'), type='text')], created_at=1701644116, file_ids=[], metadata={}, object='thread.message', role='assistant', run_id='run_Iw96piHSXSIjqIeUeN4qZqdM', thread_id='thread_1T364DlSCbqIYExYXEAMcTCK'), ThreadMessage(id='msg_y7LLX2o2airS1p76semqTvex', assistant_id=None, content=[MessageContentText(text=Text(annotations=[], value='Хочу забронировать тур'), type='text')], created_at=1701644114, file_ids=[], metadata={}, object='thread.message', role='user', run_id=None, thread_id='thread_1T364DlSCbqIYExYXEAMcTCK'), ThreadMessage(id='msg_7PRpbbSU1yzfN224xHmUeKdF', assistant_id='asst_CjvyFIeraCLKB8NTAqF0FhqG', content=[MessageContentText(text=Text(annotations=[], value='Отлично, Дубай — прекрасное место для посещения. Вы хотите забронировать тур в Дубай или вам нужна помощь только с определенными услугами, такими как авиабилеты, отель, трансферы?'), type='text')], created_at=1701644111, file_ids=[], metadata={}, object='thread.message', role='assistant', run_id='run_61AId0lG05fYcus5qOIvMrx1', thread_id='thread_1T364DlSCbqIYExYXEAMcTCK'), ThreadMessage(id='msg_5hDH6fcqrd1w00kubnri6vGW', assistant_id=None, content=[MessageContentText(text=Text(annotations=[], value='Я хочу поехать в дубай'), type='text')], created_at=1701644110, file_ids=[], metadata={}, object='thread.message', role='user', run_id=None, thread_id='thread_1T364DlSCbqIYExYXEAMcTCK')], ID треда: thread_1T364DlSCbqIYExYXEAMcTCK\n"
     ]
    }
   ],
   "source": [
    "# Пример использования\n",
    "assistant_id = \"asst_CjvyFIeraCLKB8NTAqF0FhqG\"  # Ваш ID помощника\n",
    "\n",
    "# Список сообщений для отправки\n",
    "messages_to_send = [\n",
    "    \"Я хочу поехать в дубай\",\n",
    "    \"Хочу забронировать тур\",\n",
    "    \"Мне нужен тур на один день\",\n",
    "    \"Какие варианты трансфера существуют?\"\n",
    "]\n",
    "\n",
    "# Инициализация переменной для ID треда\n",
    "thread_id = None\n",
    "\n",
    "# Отправка сообщений и получение ответов\n",
    "for message in messages_to_send:\n",
    "    \n",
    "    print(f\"Сообщение, отправленное помощнику: {message}\")\n",
    "    response, thread_id = send_message_get_reply(message, assistant_id, thread_id)\n",
    "    print(f\"Ответ помощника: {response}, ID треда: {thread_id}\")\n"
   ]
  },
  {
   "cell_type": "code",
   "execution_count": 14,
   "metadata": {},
   "outputs": [
    {
     "ename": "NameError",
     "evalue": "name 'messages' is not defined",
     "output_type": "error",
     "traceback": [
      "\u001b[1;31m---------------------------------------------------------------------------\u001b[0m",
      "\u001b[1;31mNameError\u001b[0m                                 Traceback (most recent call last)",
      "\u001b[1;32mc:\\Users\\Alex\\Assistants-FastAPI\\testground.ipynb Cell 8\u001b[0m line \u001b[0;36m1\n\u001b[1;32m----> <a href='vscode-notebook-cell:/c%3A/Users/Alex/Assistants-FastAPI/testground.ipynb#X13sZmlsZQ%3D%3D?line=0'>1</a>\u001b[0m messages\n",
      "\u001b[1;31mNameError\u001b[0m: name 'messages' is not defined"
     ]
    }
   ],
   "source": [
    "messages"
   ]
  }
 ],
 "metadata": {
  "kernelspec": {
   "display_name": "Python 3",
   "language": "python",
   "name": "python3"
  },
  "language_info": {
   "codemirror_mode": {
    "name": "ipython",
    "version": 3
   },
   "file_extension": ".py",
   "mimetype": "text/x-python",
   "name": "python",
   "nbconvert_exporter": "python",
   "pygments_lexer": "ipython3",
   "version": "3.10.11"
  }
 },
 "nbformat": 4,
 "nbformat_minor": 2
}
